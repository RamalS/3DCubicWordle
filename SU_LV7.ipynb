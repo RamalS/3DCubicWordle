{
  "nbformat": 4,
  "nbformat_minor": 0,
  "metadata": {
    "colab": {
      "provenance": [],
      "gpuType": "T4",
      "include_colab_link": true
    },
    "kernelspec": {
      "name": "python3",
      "display_name": "Python 3"
    },
    "language_info": {
      "name": "python"
    },
    "accelerator": "GPU"
  },
  "cells": [
    {
      "cell_type": "markdown",
      "metadata": {
        "id": "view-in-github",
        "colab_type": "text"
      },
      "source": [
        "<a href=\"https://colab.research.google.com/github/RamalS/3DCubicWordle/blob/main/SU_LV7.ipynb\" target=\"_parent\"><img src=\"https://colab.research.google.com/assets/colab-badge.svg\" alt=\"Open In Colab\"/></a>"
      ]
    },
    {
      "cell_type": "markdown",
      "source": [
        "# Sijamsko učenje\n",
        "\n",
        "Sijamsko učenje (*siamese learning*) je tehnika u strojnom učenju koja koristi paralelne neuronske mreže sa zajedničkim težinama kako bi naučile efikasnu reprezentaciju ulaznih podataka. Osnovna ideja sijamskog učenja je omogućiti mreži učenje sličnosti (*similarity learning*) između parova ulaznih primjera. Primjene uključuju prepoznavanje lica, prepoznavanje otiska prsta, verifikacija potpisa, grupiranje podataka, praćenje objekata u video zapisima itd.\n",
        "\n",
        "Sijamska mreža sastoji se od dvije identične mreže koje dijele težine. Te mreže primaju različite ulaze te generiraju reprezentacije u nižedimenzionlanom prostori (*embeddings*) za svaki od ulaza. Zatim se mjeri udaljenost između *embeddinga*.\n",
        "\n",
        "Prilikom treninga mreža treba naučiti generirati takve reprezentacije da je za ulaze iste klase (pozitivni parovi) udaljenost između reprezentacija mala, a za ulaze različitih klasa (negativni parovi) udaljenost između reprezentacija veća."
      ],
      "metadata": {
        "id": "oDvZZPYMRup9"
      }
    },
    {
      "cell_type": "markdown",
      "source": [
        "## Kontrastni gubitak (*constrastive loss*)\n",
        "\n",
        "Kontrastni gubitak definiran je na sljedeći način:\n",
        "$$L(x_1, x_2) = y * d(f(x_1), f(x_2))^2 + (1 - y) * max(0, m^2 - d(f(x_1), f(x_2))^2)$$\n",
        "\n",
        "$y$ je 1 ako su ulazne slike iste klase, 0 inače. $d(f(x_1), f(x_2))$ predstavlja udaljenost između *embeddinga* ulaznih slika. $m$ je proizvoljno odabrana margina, ako nam je kvadrat udaljenosti između reprezentacija negativnih parova veći od $m^2$, vrijednost funkcije gubitka će biti 0.\n",
        "\n",
        "Za mjeru udaljenosti se može koristiti L2 udaljenost:\n",
        "$$d(a, b) = \\sqrt{\\sum_{i=1}^n{(a_i - b_i)^2}}$$\n",
        "\n",
        "Kako bi udaljenost između reprezentacija bila ograničena, često se reprezentacije normiraju. Na ovaj način će sve reprezentacije biti točke na jediničnoj kružnici. Normiranje vektora:\n",
        "$$v_{norm} = \\frac{v}{||v||_2}$$"
      ],
      "metadata": {
        "id": "dnj7Avxylj8Z"
      }
    },
    {
      "cell_type": "markdown",
      "source": [
        "## Podatkovni skup\n",
        "\n",
        "Podatkovni skupovi za primjene za koje se koristi sijamsko učenje često imaju velik broj klasa i mali broj primjera za svaku klasu, stoga bi se nasumičnim odabiranjem parova dobio jako velik broj negativnih parova. Zbog ovoga bi mreža vrlo teško naučila raditi s pozitivnim parovima. Jedan od načina da se ovo riješi je da se generira takav podatkovni skup gdje je podjednak broj pozitivnih i negativnih parova.\n",
        "\n",
        "U nastavku je implementirano generiranje jednog ovakvog podatkovnog skupa na temelju [Omniglot](https://pytorch.org/vision/main/generated/torchvision.datasets.Omniglot.html) podatkovnog skupa."
      ],
      "metadata": {
        "id": "HRPrZlbDn6BG"
      }
    },
    {
      "cell_type": "code",
      "source": [
        "## Importing useful libraries\n",
        "import os\n",
        "import math\n",
        "import numpy as np\n",
        "import time\n",
        "import torch\n",
        "import torch.nn as nn\n",
        "import torch.nn.functional as F\n",
        "import torch.utils.data as data\n",
        "import torchvision.transforms as transforms\n",
        "import torchvision\n",
        "from torchsummary import summary\n",
        "\n",
        "import matplotlib.pyplot as plt\n",
        "from imageio.v2 import imread\n",
        "%matplotlib inline\n",
        "\n",
        "from tqdm.notebook import tqdm\n",
        "\n",
        "device = torch.device(\"cuda\") if torch.cuda.is_available() else torch.device(\"cpu\")\n",
        "print(\"Device\", device)\n",
        "\n",
        "from torch.utils.tensorboard import SummaryWriter\n",
        "\n",
        "%load_ext tensorboard"
      ],
      "metadata": {
        "id": "T5PQuVBZwGCI",
        "outputId": "100fd4d9-21f6-42a6-bcf2-9abdc7d676e6",
        "colab": {
          "base_uri": "https://localhost:8080/"
        }
      },
      "execution_count": 49,
      "outputs": [
        {
          "output_type": "stream",
          "name": "stdout",
          "text": [
            "Device cuda\n",
            "The tensorboard extension is already loaded. To reload it, use:\n",
            "  %reload_ext tensorboard\n"
          ]
        }
      ]
    },
    {
      "cell_type": "code",
      "source": [
        "batch_size = 128"
      ],
      "metadata": {
        "id": "087RYrMDwR_C"
      },
      "execution_count": 50,
      "outputs": []
    },
    {
      "cell_type": "code",
      "source": [
        "import random\n",
        "from torch.utils.data import DataLoader, Dataset\n",
        "\n",
        "class MatchedDataset(Dataset):\n",
        "  def __init__(self, original_dataset):\n",
        "    self.grouped = {}\n",
        "    self.size = len(original_dataset)\n",
        "    for i, c in original_dataset:\n",
        "      if c not in self.grouped:\n",
        "        self.grouped[c] = []\n",
        "      self.grouped[c].append(i)\n",
        "\n",
        "    self.classes = list(self.grouped.keys())\n",
        "\n",
        "  def __getitem__(self, index):\n",
        "    cls0 = random.choice(self.classes)\n",
        "    image0_idx = random.randint(0, len(self.grouped[cls0]) - 1)\n",
        "    image0 = self.grouped[cls0][image0_idx]\n",
        "    ## select random label, 1 for same class, 0 for different class\n",
        "    label = random.randint(0,1)\n",
        "    if label:\n",
        "      ## select a different image of the same class\n",
        "      while True:\n",
        "        image1_idx = random.randint(0, len(self.grouped[cls0]) - 1)\n",
        "        if image0_idx != image1_idx:\n",
        "          image1 = self.grouped[cls0][image1_idx]\n",
        "          break\n",
        "    else:\n",
        "      ## select a random image from a different class\n",
        "      while True:\n",
        "        cls1 = random.choice(self.classes)\n",
        "        if cls0 != cls1:\n",
        "          image1 = random.choice(self.grouped[cls1])\n",
        "          break\n",
        "\n",
        "    return image0, image1, label\n",
        "\n",
        "  def __len__(self):\n",
        "    return self.size"
      ],
      "metadata": {
        "id": "IDzKW4h53TVS"
      },
      "execution_count": 51,
      "outputs": []
    },
    {
      "cell_type": "code",
      "execution_count": 52,
      "metadata": {
        "id": "W0w3K3ykMyDX"
      },
      "outputs": [],
      "source": [
        "%%capture\n",
        "import torchvision.transforms as transforms\n",
        "from torchvision.datasets import Omniglot\n",
        "\n",
        "img_transform = transforms.Compose([\n",
        "    transforms.ToTensor()\n",
        "])\n",
        "\n",
        "train_original_dataset = Omniglot(root='./data/Omniglot', download=True, background=True, transform=img_transform)\n",
        "train_dataset = MatchedDataset(train_original_dataset)\n",
        "train_dataloader = DataLoader(train_dataset, batch_size=batch_size, shuffle=True)\n",
        "\n",
        "test_original_dataset = Omniglot(root='./data/Omniglot', download=True, background=False, transform=img_transform)\n",
        "test_dataset = MatchedDataset(test_original_dataset)\n",
        "test_dataloader = DataLoader(test_dataset, batch_size=batch_size, shuffle=True)"
      ]
    },
    {
      "cell_type": "code",
      "source": [
        "plt.imshow(next(iter(train_dataloader))[0][0].numpy().transpose(1, 2, 0))"
      ],
      "metadata": {
        "id": "82mdhjxKwT14",
        "outputId": "99224584-88cd-4638-b6ed-c7db4d3d0b77",
        "colab": {
          "base_uri": "https://localhost:8080/",
          "height": 451
        }
      },
      "execution_count": 53,
      "outputs": [
        {
          "output_type": "execute_result",
          "data": {
            "text/plain": [
              "<matplotlib.image.AxesImage at 0x7cc0a96c8590>"
            ]
          },
          "metadata": {},
          "execution_count": 53
        },
        {
          "output_type": "display_data",
          "data": {
            "text/plain": [
              "<Figure size 640x480 with 1 Axes>"
            ],
            "image/png": "[encoded data removed]"
          },
          "metadata": {}
        }
      ]
    },
    {
      "cell_type": "markdown",
      "source": [
        "## Zadaci\n",
        "\n",
        "1. Proučite podatkovni skup, prikažite primjere pozitivnih i negativnih parova.\n",
        "\n",
        "2. Prilagodite neuronsku mrežu iz 3. laboratorijske vježbe kako bi primala dvije slike iz Omniglot podatkovnog skupa i generirala reprezentacije tih ulaza. Za ovo je potrebno izbaciti posljednji, klasifikacijski, sloj te uklonite aktivacijsku funkciju novog posljednjeg sloja. Izlaze iz posljednjeg sloja [normalizirajte](https://pytorch.org/docs/stable/generated/torch.nn.functional.normalize.html).\n",
        "\n",
        "3. Implementirajte funkciju kontrastnog gubitka.\n",
        "\n",
        "4. Implementirajte funkciju za treniranje te trenirajte mrežu.\n",
        "\n",
        "5. Evaluirajte istreniranu mrežu na podacima za testiranje. Funkcija za evaluaciju treba računati točnost, preciznost i odziv. Prilikom evaluacije, potrebno je odabrati prag minimalne udaljenosti za koje će ulazne slike biti klasificirane kao različite. Evaluirajte mrežu s različitim vrijednostima te skicirajte vrijednosti točnosti, preciznosti i odziva u ovisnosti o pragu. Pomoću ove krivulje, odaberite optimalnu vrijednost praga za klasifikaciju."
      ],
      "metadata": {
        "id": "D1Ub3qVvp_-k"
      }
    },
    {
      "cell_type": "code",
      "source": [
        "class CNN(nn.Module):\n",
        "    def __init__(self):\n",
        "        super().__init__()\n",
        "        # Sad koristimo in_channels=1 za Omniglot\n",
        "        self.conv1 = nn.Conv2d(in_channels=1,  out_channels=16, kernel_size=3, stride=1, padding=1)\n",
        "        self.bn1   = nn.BatchNorm2d(16)\n",
        "        self.conv2 = nn.Conv2d(in_channels=16, out_channels=32, kernel_size=3, stride=1, padding=1)\n",
        "        self.bn2   = nn.BatchNorm2d(32)\n",
        "        self.conv3 = nn.Conv2d(in_channels=32, out_channels=64, kernel_size=3, stride=1, padding=1)\n",
        "        self.bn3   = nn.BatchNorm2d(64)\n",
        "\n",
        "        self.pool      = nn.MaxPool2d(2, 2)\n",
        "        self.dropout2d = nn.Dropout2d(p=0.2)\n",
        "        self.relu      = nn.ReLU()\n",
        "\n",
        "        # Nakon 3 poolinga (105→52→26→13), feature mapa je 64×13×13 = 10816\n",
        "        self.fc1    = nn.Linear(64 * 13 * 13, 120)\n",
        "        self.bn_fc1 = nn.BatchNorm1d(120)\n",
        "        self.fc2    = nn.Linear(120, 84)\n",
        "        self.bn_fc2 = nn.BatchNorm1d(84)\n",
        "        self.dropout = nn.Dropout(p=0.5)\n",
        "\n",
        "    def extract_features(self, x):\n",
        "        x = self.relu(self.bn1(self.conv1(x)))\n",
        "        x = self.pool(x); x = self.dropout2d(x)\n",
        "\n",
        "        x = self.relu(self.bn2(self.conv2(x)))\n",
        "        x = self.pool(x); x = self.dropout2d(x)\n",
        "\n",
        "        x = self.relu(self.bn3(self.conv3(x)))\n",
        "        x = self.pool(x); x = self.dropout2d(x)\n",
        "\n",
        "        x = torch.flatten(x, 1)\n",
        "        x = self.relu(self.bn_fc1(self.fc1(x)))\n",
        "        x = self.dropout(x)\n",
        "        x = self.relu(self.bn_fc2(self.fc2(x)))\n",
        "\n",
        "        # L2-normalizirani embedding\n",
        "        return F.normalize(x, p=2, dim=1)\n",
        "\n",
        "    def forward(self, x1, x2):\n",
        "        return self.extract_features(x1), self.extract_features(x2)\n"
      ],
      "metadata": {
        "id": "YVX0eQyz0keA"
      },
      "execution_count": 54,
      "outputs": []
    },
    {
      "cell_type": "code",
      "source": [
        "import torch\n",
        "import torch.nn.functional as F\n",
        "\n",
        "def contrastive_loss(device, m=1.0):\n",
        "    def loss(embedding1, embedding2, label):\n",
        "\n",
        "        d2 = torch.sum((embedding1 - embedding2).pow(2), dim=1)\n",
        "        y  = label.float()\n",
        "\n",
        "        pos = y * d2\n",
        "\n",
        "        neg = (1.0 - y) * F.relu(m*m - d2)\n",
        "        return (pos + neg).mean()\n",
        "    return loss"
      ],
      "metadata": {
        "id": "ocLdX6AeV8Hs"
      },
      "execution_count": 55,
      "outputs": []
    },
    {
      "cell_type": "code",
      "source": [
        "loss_module = contrastive_loss(device, 1)"
      ],
      "metadata": {
        "id": "5mQ4gzxZPCZ5"
      },
      "execution_count": 56,
      "outputs": []
    },
    {
      "cell_type": "code",
      "source": [
        "## Check if you implemented the loss correctly, the correct output should be 0.2750\n",
        "\n",
        "loss_module(torch.Tensor([[1, 1, 1], [0, 1, 1]]).to(device), torch.Tensor([[1, 0.8, 0.9], [0, 0.5, 0.5]]).to(device), torch.Tensor([1, 0]).to(device))"
      ],
      "metadata": {
        "id": "L3zViDb0u6Rd",
        "outputId": "93276924-55df-4d4b-b3b3-c7b24e007660",
        "colab": {
          "base_uri": "https://localhost:8080/"
        }
      },
      "execution_count": 57,
      "outputs": [
        {
          "output_type": "execute_result",
          "data": {
            "text/plain": [
              "tensor(0.2750, device='cuda:0')"
            ]
          },
          "metadata": {},
          "execution_count": 57
        }
      ]
    },
    {
      "cell_type": "code",
      "source": [
        "def visualize_results(thresholds, results):\n",
        "  # thresholds is an array of values of the threshold, e.g. np.arange(0, 2, 0.1)\n",
        "  # results is an array of shape (len(thresholds), 3) where\n",
        "  # results[:,0] is the values of accuracy given the different thresholds\n",
        "  # and results[:,1] and results[:,2] are similarly values of precision and recall\n",
        "\n",
        "  fig, ax = plt.subplots()\n",
        "  ax.plot(thresholds, results[:,0], c='green', label='accuracy')\n",
        "  ax.plot(thresholds, results[:,1], c='blue', label='precision')\n",
        "  ax.plot(thresholds, results[:,2], c='orange', label='recall')\n",
        "  plt.legend(loc=\"lower right\")\n",
        "  plt.show()"
      ],
      "metadata": {
        "id": "NsiszX0nK8Hx"
      },
      "execution_count": 58,
      "outputs": []
    },
    {
      "cell_type": "code",
      "source": [
        "def visualize(model, dataloader, n = 6):\n",
        "  ## visualize some examples of input pairs and the distance between their embeddings\n",
        "  fig = plt.figure(constrained_layout=True, figsize=(4, 2.2*n))\n",
        "  subfigs = fig.subfigures(nrows=n, ncols=1)\n",
        "\n",
        "  for i in range(n):\n",
        "    data = next(iter(dataloader))\n",
        "    data_inputs1 = data[0][i].unsqueeze(0)\n",
        "    data_inputs2 = data[1][i].unsqueeze(0)\n",
        "    data_labels = data[2][i].unsqueeze(0)\n",
        "\n",
        "    data_inputs1 = data_inputs1.to(device)\n",
        "    data_inputs2 = data_inputs2.to(device)\n",
        "    data_labels = data_labels.to(device)\n",
        "\n",
        "    embedding1, embedding2 = model((data_inputs1, data_inputs2))\n",
        "    dist = torch.linalg.norm(embedding1 - embedding2, dim = 1)\n",
        "\n",
        "    subfig = subfigs[i]\n",
        "    subfig.suptitle('Distance: %.4f, Label: %d'%(dist, data_labels), size='small')\n",
        "    ax = subfig.subplots(nrows=1, ncols=2)\n",
        "    img1_ = data_inputs1[0].cpu().numpy().transpose(1, 2, 0)\n",
        "    ax[0].imshow(img1_)\n",
        "    img2_ = data_inputs2[0].cpu().numpy().transpose(1, 2, 0)\n",
        "    ax[1].imshow(img2_)\n",
        "  plt.show()"
      ],
      "metadata": {
        "id": "sQKctD-2S3jX"
      },
      "execution_count": 59,
      "outputs": []
    },
    {
      "cell_type": "code",
      "source": [
        "import numpy as np\n",
        "from sklearn.metrics import accuracy_score, precision_score, recall_score\n",
        "\n",
        "def train(model, dataloader, optimizer, criterion, device, epochs=10):\n",
        "    model.to(device)\n",
        "    model.train()\n",
        "    for epoch in range(1, epochs + 1):\n",
        "        running_loss = 0.0\n",
        "        for x1, x2, labels in dataloader:\n",
        "            x1, x2, labels = x1.to(device), x2.to(device), labels.to(device)\n",
        "            optimizer.zero_grad()\n",
        "            feat1, feat2 = model(x1, x2)\n",
        "            loss = criterion(feat1, feat2, labels)\n",
        "            loss.backward()\n",
        "            optimizer.step()\n",
        "            running_loss += loss.item()\n",
        "        avg_loss = running_loss / len(dataloader)\n",
        "        print(f\"Epoch {epoch:>2}/{epochs}, Loss: {avg_loss:.4f}\")\n",
        "\n",
        "def compute_distances_labels(model, dataloader, device):\n",
        "    model.to(device)\n",
        "    model.eval()\n",
        "    distances = []\n",
        "    labels = []\n",
        "    with torch.no_grad():\n",
        "        for x1, x2, y in dataloader:\n",
        "            x1, x2 = x1.to(device), x2.to(device)\n",
        "            feat1, feat2 = model(x1, x2)\n",
        "            dists = torch.norm(feat1 - feat2, dim=1)\n",
        "            distances.append(dists.cpu().numpy())\n",
        "            labels.append(y.numpy())\n",
        "    distances = np.concatenate(distances)\n",
        "    labels = np.concatenate(labels)\n",
        "    return distances, labels\n",
        "\n",
        "def evaluate_thresholds(distances, labels, thresholds):\n",
        "    results = np.zeros((len(thresholds), 3))\n",
        "    for i, t in enumerate(thresholds):\n",
        "        # predict same(1) if distance < t, different(0) otherwise\n",
        "        preds = (distances < t).astype(int)\n",
        "        results[i, 0] = accuracy_score(labels, preds)\n",
        "        results[i, 1] = precision_score(labels, preds)\n",
        "        results[i, 2] = recall_score(labels, preds)\n",
        "    return results\n",
        "\n",
        "device = torch.device(\"cuda\" if torch.cuda.is_available() else \"cpu\")\n",
        "\n",
        "\n",
        "model     = CNN().to(device)\n",
        "optimizer = torch.optim.Adam(model.parameters(), lr=1e-3)\n",
        "criterion = contrastive_loss(device, m=1.0)\n",
        "\n",
        "train(model, train_dataloader, optimizer, criterion, device, epochs=10)\n",
        "\n",
        "# 2) Compute distances on test set\n",
        "distances, labels = compute_distances_labels(model, test_dataloader, device)\n",
        "\n",
        "# 3) Sweep thresholds\n",
        "thresholds = np.linspace(0.0, 2.0, 100)\n",
        "results = evaluate_thresholds(distances, labels, thresholds)\n",
        "\n",
        "# 4) Plot accuracy, precision, recall vs. threshold\n",
        "visualize_results(thresholds, results)\n",
        "\n",
        "# 5) Pick optimal threshold (maximizing accuracy)\n",
        "best_idx = np.argmax(results[:, 0])\n",
        "best_threshold = thresholds[best_idx]\n",
        "best_acc, best_prec, best_rec = results[best_idx]\n",
        "print(f\"Optimal threshold = {best_threshold:.4f}\")\n",
        "print(f\"Accuracy = {best_acc:.4f}, Precision = {best_prec:.4f}, Recall = {best_rec:.4f}\")\n"
      ],
      "metadata": {
        "id": "5DNgh7rsuqVc",
        "outputId": "039a72eb-5794-407f-9093-a498aad7bdbf",
        "colab": {
          "base_uri": "https://localhost:8080/",
          "height": 693
        }
      },
      "execution_count": 60,
      "outputs": [
        {
          "output_type": "stream",
          "name": "stdout",
          "text": [
            "Epoch  1/10, Loss: 0.4257\n",
            "Epoch  2/10, Loss: 0.3104\n",
            "Epoch  3/10, Loss: 0.2792\n",
            "Epoch  4/10, Loss: 0.2612\n",
            "Epoch  5/10, Loss: 0.2567\n",
            "Epoch  6/10, Loss: 0.2485\n",
            "Epoch  7/10, Loss: 0.2443\n",
            "Epoch  8/10, Loss: 0.2414\n",
            "Epoch  9/10, Loss: 0.2410\n",
            "Epoch 10/10, Loss: 0.2345\n"
          ]
        },
        {
          "output_type": "stream",
          "name": "stderr",
          "text": [
            "/usr/local/lib/python3.11/dist-packages/sklearn/metrics/_classification.py:1565: UndefinedMetricWarning: Precision is ill-defined and being set to 0.0 due to no predicted samples. Use `zero_division` parameter to control this behavior.\n",
            "  _warn_prf(average, modifier, f\"{metric.capitalize()} is\", len(result))\n"
          ]
        },
        {
          "output_type": "display_data",
          "data": {
            "text/plain": [
              "<Figure size 640x480 with 1 Axes>"
            ],
            "image/png": "[encoded data removed]"
          },
          "metadata": {}
        },
        {
          "output_type": "stream",
          "name": "stdout",
          "text": [
            "Optimal threshold = 0.6869\n",
            "Accuracy = 0.8153, Precision = 0.7896, Recall = 0.8593\n"
          ]
        }
      ]
    }
  ]
}